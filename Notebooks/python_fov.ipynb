{
 "cells": [
  {
   "cell_type": "markdown",
   "id": "0efde026",
   "metadata": {},
   "source": [
    "### Write a function (point_inside_fov) to classify if point is inside field of view or not.\n",
    "\n",
    "<img src=\"fig/fov.png\" width=\"600\" />"
   ]
  },
  {
   "cell_type": "markdown",
   "id": "9bf8494e",
   "metadata": {},
   "source": [
    "### Imports"
   ]
  },
  {
   "cell_type": "code",
   "execution_count": 1,
   "id": "fa9c25ad",
   "metadata": {},
   "outputs": [],
   "source": [
    "import os\n",
    "import sys\n",
    "import numpy as np\n",
    "import matplotlib.pyplot as plt\n",
    "sys.path.append(os.path.abspath(os.path.join('..')))\n",
    "from field_of_view_objects.fov_helpers import Point2D, Camera_FOV, Plot, unittest, point_inside_fov_demo\n",
    "#    |-----FOV_ANGLE----|\n",
    "# t1  __________________ t2       _\n",
    "#     \\           _    /          |\n",
    "#      \\         |_|  /           |\n",
    "#       \\            /            |\n",
    "#        \\          /             | FOV_X_LAD\n",
    "#         \\        /              |\n",
    "#          \\      /               |\n",
    "#           \\ __ /                -\n",
    "#            |t0|\n",
    "#            |__|"
   ]
  },
  {
   "cell_type": "markdown",
   "id": "0e960304",
   "metadata": {},
   "source": [
    "### Definitions"
   ]
  },
  {
   "cell_type": "code",
   "execution_count": 2,
   "id": "b89c6497",
   "metadata": {},
   "outputs": [],
   "source": [
    "FOV_ANGLE       = 60.0 # degree\n",
    "FOV_X_LAD       = 80.0 # meter\n",
    "LENGTH_REAR2CAM = 1.72 # meter"
   ]
  },
  {
   "cell_type": "raw",
   "id": "6d566e4d",
   "metadata": {},
   "source": [
    "class Point2D():\n",
    "    def __init__(self,x,y):\n",
    "        self._x = x\n",
    "        self._y = y\n",
    "    def x(self):\n",
    "        return self._x\n",
    "    def y(self):\n",
    "        return self._y\n",
    "    def __add__(self,other):\n",
    "        x = self._x + other._x\n",
    "        y = self._y + other._y\n",
    "        return Point2D(x,y)\n",
    "    def __sub__(self,other):\n",
    "        x = self._x - other._x\n",
    "        y = self._y - other._y\n",
    "        return Point2D(x,y)"
   ]
  },
  {
   "cell_type": "raw",
   "id": "a1caf211",
   "metadata": {},
   "source": [
    "class Camera_FOV():\n",
    "    # FOV_ANGLE [deg]\n",
    "    # FOV_X_LAD [m]\n",
    "    # t0,t1,t2  [m]\n",
    "    def __init__(self,FOV_ANGLE,FOV_X_LAD):\n",
    "        delta_y = FOV_X_LAD * np.tan(np.deg2rad((FOV_ANGLE/2)))\n",
    "        self._t0 = Point2D(LENGTH_REAR2CAM,0)\n",
    "        self._t1 = Point2D(LENGTH_REAR2CAM + FOV_X_LAD, delta_y)\n",
    "        self._t2 = Point2D(LENGTH_REAR2CAM + FOV_X_LAD, -delta_y)"
   ]
  },
  {
   "cell_type": "markdown",
   "id": "d2052bed",
   "metadata": {},
   "source": [
    "## Function to implement"
   ]
  },
  {
   "cell_type": "code",
   "execution_count": 11,
   "id": "373662bd",
   "metadata": {},
   "outputs": [],
   "source": [
    "def point_inside_fov(fov: Camera_FOV, point: Point2D):\n",
    "    \"\"\" WRITE SOLUTION HERE \"\"\"\n",
    "    # return true if point is inside triangle\n",
    "    #fov._t0.x()\n",
    "    #fov._t0.y()\n",
    "    #fov._t1.x()\n",
    "    #fov._t1.y()\n",
    "    #fov._t2.x()\n",
    "    #fov._t2.y()\n",
    "    #point.x()\n",
    "    #point.y()   \n",
    "        \n",
    "   \n",
    "    return False"
   ]
  },
  {
   "cell_type": "markdown",
   "id": "7355d925",
   "metadata": {},
   "source": [
    "### Tests"
   ]
  },
  {
   "cell_type": "code",
   "execution_count": 4,
   "id": "329b3402",
   "metadata": {},
   "outputs": [
    {
     "name": "stdout",
     "output_type": "stream",
     "text": [
      "Is point p1([60,20]) inside field of view?: 'False' (expected: 'True').\n",
      "Is point p2([20,-20]) inside field of view?: 'False' (expected: 'False').\n"
     ]
    },
    {
     "data": {
      "image/png": "[encoded data removed]",
      "text/plain": [
       "<Figure size 432x288 with 1 Axes>"
      ]
     },
     "metadata": {
      "needs_background": "light"
     },
     "output_type": "display_data"
    }
   ],
   "source": [
    "#%matplotlib widget\n",
    "fov = Camera_FOV(FOV_ANGLE,FOV_X_LAD)\n",
    "fov_plot = Plot(fov)\n",
    "p1 = Point2D(60,20)\n",
    "p2 = Point2D(20,-20)\n",
    "p1_plt = fov_plot.trans_2_world(p1)\n",
    "p2_plt = fov_plot.trans_2_world(p2)\n",
    "\n",
    "print(f\"Is point p1([{p1.x()},{p1.y()}]) inside field of view?: '{point_inside_fov(fov,p1)}'\" + \n",
    "      f\" (expected: '{point_inside_fov_demo(fov,p1)}').\")\n",
    "print(f\"Is point p2([{p2.x()},{p2.y()}]) inside field of view?: '{point_inside_fov(fov,p2)}'\" +\n",
    "      f\" (expected: '{point_inside_fov_demo(fov,p2)}').\")\n",
    "\n",
    "plt.scatter(p1_plt.x(),p1_plt.y(), label=\"p1\")\n",
    "plt.scatter(p2_plt.x(), p2_plt.y(), label=\"p2\")\n",
    "plt.legend()\n",
    "plt.xlim([50,-50])\n",
    "plt.show()"
   ]
  },
  {
   "cell_type": "code",
   "execution_count": 12,
   "id": "e6af78d9",
   "metadata": {},
   "outputs": [
    {
     "data": {
      "application/vnd.jupyter.widget-view+json": {
       "model_id": "301bd929a43e4f5687c63fbdb6b8bb39",
       "version_major": 2,
       "version_minor": 0
      },
      "text/plain": [
       "Canvas(toolbar=Toolbar(toolitems=[('Home', 'Reset original view', 'home', 'home'), ('Back', 'Back to previous …"
      ]
     },
     "metadata": {},
     "output_type": "display_data"
    }
   ],
   "source": [
    "%matplotlib widget\n",
    "fov2 = Camera_FOV(FOV_ANGLE,FOV_X_LAD)\n",
    "fov_plot = Plot(fov2)\n",
    "unittest_plot = unittest(fov2,point_inside_fov)\n",
    "#unittest_plot = unittest(fov2,point_inside_fov_demo)"
   ]
  },
  {
   "cell_type": "code",
   "execution_count": null,
   "id": "8a1ce9cc",
   "metadata": {},
   "outputs": [],
   "source": []
  }
 ],
 "metadata": {
  "kernelspec": {
   "display_name": "Python 3",
   "language": "python",
   "name": "python3"
  },
  "language_info": {
   "codemirror_mode": {
    "name": "ipython",
    "version": 3
   },
   "file_extension": ".py",
   "mimetype": "text/x-python",
   "name": "python",
   "nbconvert_exporter": "python",
   "pygments_lexer": "ipython3",
   "version": "3.9.4"
  }
 },
 "nbformat": 4,
 "nbformat_minor": 5
}
